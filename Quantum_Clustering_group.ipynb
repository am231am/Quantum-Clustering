{
  "nbformat": 4,
  "nbformat_minor": 0,
  "metadata": {
    "colab": {
      "provenance": [],
      "collapsed_sections": [
        "0Ztu4Q8u5YvT",
        "dOCReCwGUiCA",
        "ZrY73btzRD6C",
        "l1Rv0DJARAqB",
        "ehA6L5ADEeXh",
        "1WZChb10C0bH"
      ]
    },
    "kernelspec": {
      "name": "python3",
      "display_name": "Python 3"
    },
    "language_info": {
      "name": "python"
    }
  },
  "cells": [
    {
      "cell_type": "markdown",
      "source": [
        "### `By`\n",
        "\n",
        "- Nour Mohamed Raafat\n",
        "- Amgad Mohammed Mohamed   Shalaby\n",
        "- Amina Mohamed Mohamed Abd Elbaqi"
      ],
      "metadata": {
        "id": "D_EvRU57I2sN"
      }
    },
    {
      "cell_type": "code",
      "execution_count": null,
      "metadata": {
        "id": "dP9C-eIYgYvQ"
      },
      "outputs": [],
      "source": [
        "!pip install qiskit"
      ]
    },
    {
      "cell_type": "code",
      "execution_count": 2,
      "metadata": {
        "id": "0ec6805a-a351-46ba-a293-356dcde831b2"
      },
      "outputs": [],
      "source": [
        "import numpy as np\n",
        "import matplotlib.pylab as plt"
      ]
    },
    {
      "cell_type": "code",
      "execution_count": 3,
      "metadata": {
        "id": "e1aca70a-2bd0-4a9c-9527-04781deca86f"
      },
      "outputs": [],
      "source": [
        "from qiskit.circuit.library import (\n",
        "                        XGate, ZGate,\n",
        "                        YGate, HGate,\n",
        "                        SGate, SdgGate,\n",
        "                        RXGate, YGate,\n",
        "                        ZGate, RZGate,\n",
        "                        RYGate, RXGate,\n",
        "                        RZZGate, CXGate)\n",
        "from qiskit.visualization import array_to_latex"
      ]
    },
    {
      "cell_type": "markdown",
      "source": [
        "# generate_random_data"
      ],
      "metadata": {
        "id": "0Ztu4Q8u5YvT"
      }
    },
    {
      "cell_type": "markdown",
      "source": [
        "## Step 1\n",
        "### 1.1 Function Definition:\n",
        "\n",
        "####The \"generate_random_data\" function , takes **two inputs**, m and n, representing the number of rows and columns, respectively. It returns a tuple containing a NumPy array of random data and a NumPy array of random labels.\n",
        "\n",
        "\n",
        "### 1.2 Shape\n",
        "\n",
        "####\"Output:\"\n",
        "\n",
        "#### A tuple containing:\n",
        "#### A NumPy array containing the random data.\n",
        "#### Shape of Data Output: (m, n)\n",
        "#### The random data is represented as a 2D array with m rows and n columns.\n",
        "#### A NumPy array containing the random labels.\n",
        "#### Shape of Labels Output: (m,)\n",
        "#### The random labels are represented as a 1D array with m elements.\n",
        "\n",
        "\n",
        "\n",
        "## 1.3 Finally Explanation:\n",
        "\n",
        "#### The function generates random data and labels for a binary classification problem. The data array has m rows and n columns, while the labels array has m elements.\n"
      ],
      "metadata": {
        "id": "140KptJC-XxR"
      }
    },
    {
      "cell_type": "code",
      "source": [
        "def generate_random_data(m: int  , n:int)->np.array:\n",
        "  \"\"\"\n",
        "  Generates a NumPy array of random data with one column (m rows).\n",
        "\n",
        "  Args:\n",
        "      m: The number of rows in the data array.\n",
        "\n",
        "  Returns:\n",
        "      A NumPy array containing the random data.\n",
        "  \"\"\"\n",
        "  # Generate random values between 0 and 1\n",
        "  data =np.random.rand(m, n)\n",
        "  lables= np.random.choice([0, 1], size=m)\n",
        "  return data , lables\n",
        "np.random.seed(211)\n",
        "m = 100\n",
        "n=1\n",
        "\n",
        "data , lables = generate_random_data(m,n)\n",
        "\n",
        "plt.scatter(data ,lables);"
      ],
      "metadata": {
        "colab": {
          "base_uri": "https://localhost:8080/",
          "height": 430
        },
        "id": "6YUBSKfmV_GG",
        "outputId": "b06fe394-6292-46b1-d6ae-4c86c0bc2d20"
      },
      "execution_count": 20,
      "outputs": [
        {
          "output_type": "display_data",
          "data": {
            "text/plain": [
              "<Figure size 640x480 with 1 Axes>"
            ],
            "image/png": "[encoded data removed]"
          },
          "metadata": {}
        }
      ]
    },
    {
      "cell_type": "markdown",
      "source": [
        "# ground state"
      ],
      "metadata": {
        "id": "dOCReCwGUiCA"
      }
    },
    {
      "cell_type": "markdown",
      "source": [
        "## Step 2\n",
        "### 2.1 Function Definition:\n",
        "\n",
        "#### The \"ground_state\" function , takes **no inputs** and returns a 2D NumPy array representing the ground state.\n",
        "\n",
        "### 2.2 Shape\n",
        "####\"Output:\"\n",
        "\n",
        "#### It returns a 2D NumPy array representing the ground state.\n",
        "#### Shape of Output: (2, 1)\n",
        "#### The ground state is represented as a column vector(Ket) with two elements: |0> = [1, 0].\n",
        "\n",
        "### 2.3 Finally Explanation:\n",
        "\n",
        "####This function returns a fixed representation of the ground state in quantum computing, where the first element denotes the probability amplitude of state |0> and the second element denotes the probability amplitude of state |1>.\n"
      ],
      "metadata": {
        "id": "8JA6bjy09iUo"
      }
    },
    {
      "cell_type": "code",
      "source": [
        "def ground_state() -> np.array:\n",
        "  \"\"\"\n",
        "  Returns a NumPy array representing the ground state (|0> state).\n",
        "\n",
        "  Returns:\n",
        "      A 2D  NumPy array representing the ground state.\n",
        "  \"\"\"\n",
        "  ground_state = np.array([[1], [0]])\n",
        "  return  ground_state"
      ],
      "metadata": {
        "id": "NWZuVOQ6TLSO"
      },
      "execution_count": 21,
      "outputs": []
    },
    {
      "cell_type": "markdown",
      "source": [
        "# initialize centroids"
      ],
      "metadata": {
        "id": "ZrY73btzRD6C"
      }
    },
    {
      "cell_type": "markdown",
      "source": [
        "## Step 3\n",
        "### 3.1 Function Definition:\n",
        "\n",
        "#### The initialize_centroids function , takes two inputs: data, a NumPy array containing classical data points, and k, the number of clusters. It returns a NumPy array containing the initial centroids.\n",
        "\n",
        "### 3.2 Shape\n",
        "#### \"Input:\"\n",
        "\n",
        "#### data: A NumPy array containing classical data points, Shape of Input: (m, n)\n",
        "#### The input data is represented as a 2D array with m rows and n columns, where each row represents a data point, k: The number of clusters.\n",
        "\n",
        "#### \"Output:\"\n",
        "\n",
        "#### A NumPy array containing the initial centroids, Shape of Output: (k, n)\n",
        "#### The centroids are represented as a 2D array with k rows and n columns, where each row represents a centroid.\n",
        "\n",
        "### 3.3 Finally Explanation:\n",
        "\n",
        "#### This function randomly selects k data points from the input data to initialize the centroids. The resulting centroids array has k rows (one for each centroid) and the same number of columns as the input data (assuming each data point has the same dimensionality)."
      ],
      "metadata": {
        "id": "qdxjTTQMC2B9"
      }
    },
    {
      "cell_type": "code",
      "source": [
        "def initialize_centroids(data:np.array, k:int )-> np.array:\n",
        "  \"\"\"\n",
        "  Randomly initializes k centroids from the data points.\n",
        "\n",
        "  Args:\n",
        "      data: A NumPy array containing the classical data points.\n",
        "      k: The number of clusters .\n",
        "\n",
        "  Returns:\n",
        "      A NumPy array containing the initial centroids.\n",
        "  \"\"\"\n",
        "  idx = np.random.choice(len(data), k, replace=False)\n",
        "  return data[idx]\n",
        "\n",
        "k = 2  # Number of cluster\n",
        "\n",
        "init_cent = initialize_centroids(data, k )\n",
        "print(\"init_cent : \",init_cent)"
      ],
      "metadata": {
        "id": "4LUn7xV-WVnP",
        "colab": {
          "base_uri": "https://localhost:8080/"
        },
        "outputId": "09e10d45-3f02-4766-9153-62849b5e4adf"
      },
      "execution_count": 109,
      "outputs": [
        {
          "output_type": "stream",
          "name": "stdout",
          "text": [
            "init_cent :  [[0.78533162]\n",
            " [0.66354382]]\n"
          ]
        }
      ]
    },
    {
      "cell_type": "markdown",
      "source": [
        "# encode data"
      ],
      "metadata": {
        "id": "l1Rv0DJARAqB"
      }
    },
    {
      "cell_type": "markdown",
      "source": [
        "## Step 4\n",
        "### 3.1 Function Definition:\n",
        "\n",
        "#### The encode_data function , takes two inputs: data, a NumPy array representing a single data point, and ground_state, a NumPy array representing the initial quantum state. It returns a NumPy array representing the encoded quantum state.\n",
        "\n",
        "### 4.2 Shape\n",
        "#### \"Input:\"\n",
        "\n",
        "####data: A NumPy array representing a single data point,Shape of Input: (n,)\n",
        "#### The input data is represented as a 1D array with n elements.\n",
        "####ground_state: A NumPy array representing the initial quantum state.\n",
        "####Shape of Input: (2, 1)\n",
        "####The ground state is represented as a column vector with two elements.\n",
        "\n",
        "#### \"Output:\"\n",
        "\n",
        "####A NumPy array representing the encoded quantum state,Shape of Output: (m, 2)\n",
        "####The encoded quantum states are represented as a 2D array with m rows and 2 columns, where each row represents an encoded quantum state.\n",
        "\n",
        "### 4.3 Finally Explanation:\n",
        "\n",
        "####The function encodes each data point into a quantum state using a rotation gate (RX) and the provided initial ground state. It then reshapes the resulting array to have m rows and 2 columns, where m is the number of data points."
      ],
      "metadata": {
        "id": "ehA6L5ADEeXh"
      }
    },
    {
      "cell_type": "code",
      "source": [
        "def encode_data(data: np.array, ground_state: np.array) -> np.array:\n",
        "  \"\"\"\n",
        "  Encodes classical data points into quantum states using an RXGate.\n",
        "\n",
        "  Args:\n",
        "    data ( np.array): This is a NumPy array containing the classical data points to be encoded.\n",
        "    ground_state (np.array): This is a NumPy array representing the initial quantum state that will be used for encoding.\n",
        "\n",
        " Returns:\n",
        "     evolved_states ( np.array): This is a NumPy array containing the encoded quantum states.\n",
        "     The shape of this array will be the same as the number of data points in the data input (number of rows)\n",
        "      and will have 2 columns (representing the complex amplitudes of the quantum state).\n",
        "     Each row in the output array corresponds to the encoded quantum state for a particular classical data point from the input.\n",
        "  \"\"\"\n",
        "\n",
        "  evolved_states = []\n",
        "\n",
        "  for angle in data :\n",
        "    RX = RXGate(angle[0]).to_matrix()\n",
        "    evolved_state = RX @ ground_state\n",
        "    evolved_states.append(evolved_state)\n",
        "\n",
        "  evolved_states = np.array(evolved_states).reshape((-1, 2))\n",
        "\n",
        "  return evolved_states\n"
      ],
      "metadata": {
        "id": "PmVENusezs8A"
      },
      "execution_count": 23,
      "outputs": []
    },
    {
      "cell_type": "markdown",
      "source": [
        "- example"
      ],
      "metadata": {
        "id": "-ihpcDSBOW6L"
      }
    },
    {
      "cell_type": "code",
      "source": [
        "encode_data(data , ground_state()).shape"
      ],
      "metadata": {
        "colab": {
          "base_uri": "https://localhost:8080/"
        },
        "id": "xO3b7fXIJ-Gs",
        "outputId": "8b64302a-2e41-4c4c-c8c9-b0041812b9e5"
      },
      "execution_count": 24,
      "outputs": [
        {
          "output_type": "execute_result",
          "data": {
            "text/plain": [
              "(100, 2)"
            ]
          },
          "metadata": {},
          "execution_count": 24
        }
      ]
    },
    {
      "cell_type": "code",
      "source": [
        "# encode init centroid\n",
        "encode_data( init_cent , ground_state() ).shape"
      ],
      "metadata": {
        "colab": {
          "base_uri": "https://localhost:8080/"
        },
        "id": "klEmVWJWSQ4E",
        "outputId": "bb9f7245-f6f6-491a-8421-33ee9c91bdff"
      },
      "execution_count": 25,
      "outputs": [
        {
          "output_type": "execute_result",
          "data": {
            "text/plain": [
              "(2, 2)"
            ]
          },
          "metadata": {},
          "execution_count": 25
        }
      ]
    },
    {
      "cell_type": "markdown",
      "source": [
        "The resulting encoded state will also be a 2-element complex array, where:\n",
        "- The first element represents the complex amplitude for the |0> state after the RXGate operation.\n",
        "- The second element represents the complex amplitude for the |1> state after the RXGate operation.\n",
        "\n",
        "- The complex amplitudes provide information about the probabilities of finding the system in the |0> or |1> state after measurement."
      ],
      "metadata": {
        "id": "Rm_hF_0yPejE"
      }
    },
    {
      "cell_type": "code",
      "source": [
        "encode_data(data , ground_state())[:3]"
      ],
      "metadata": {
        "colab": {
          "base_uri": "https://localhost:8080/"
        },
        "id": "hg2Qr3WXOeWS",
        "outputId": "ddf533ad-4a25-41ab-8653-2ba7279434bd"
      },
      "execution_count": 26,
      "outputs": [
        {
          "output_type": "execute_result",
          "data": {
            "text/plain": [
              "array([[0.92464878+0.j        , 0.        -0.380821j  ],\n",
              "       [0.94059616+0.j        , 0.        -0.33952742j],\n",
              "       [0.88475443+0.j        , 0.        -0.4660575j ]])"
            ]
          },
          "metadata": {},
          "execution_count": 26
        }
      ]
    },
    {
      "cell_type": "markdown",
      "source": [
        "# Fidelity function"
      ],
      "metadata": {
        "id": "1WZChb10C0bH"
      }
    },
    {
      "cell_type": "markdown",
      "source": [
        "**Fidelity :** can refer to any measure of similarity between two things. This can include quantum states (statevectors or density matrices), quantum gate operations (unitary matrices), or more general quantum channels. In all cases, it is a number between 0 (as different as possible) to 1 (the same object)"
      ],
      "metadata": {
        "id": "pElVl8YI-98g"
      }
    },
    {
      "cell_type": "markdown",
      "source": [
        "![6.png](data:image/png;base64,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)"
      ],
      "metadata": {
        "id": "ggJwp4IZAekC"
      }
    },
    {
      "cell_type": "markdown",
      "source": [
        "[Quantum Computing](https://quantumcomputing.stackexchange.com/questions/27690/what-is-fidelity-in-quantum-computing"
      ],
      "metadata": {
        "id": "ziAI0DEDACVB"
      }
    },
    {
      "cell_type": "markdown",
      "source": [
        "#### numpy.vdot(a, b)\n",
        "\n",
        "Return the dot product of two vectors.\n",
        "\n",
        "The vdot(a, b) function handles complex numbers differently than dot(a, b). If the first argument is complex the complex conjugate of the first argument is used for the calculation of the dot product.\n",
        "\n",
        "- Returns:\n",
        "\n",
        "    Dot product of a and b. Can be an int, float, or complex depending on the types of a and b."
      ],
      "metadata": {
        "id": "i2Gsg3DB2RnP"
      }
    },
    {
      "cell_type": "code",
      "source": [
        "def fedality(a:np.array , b :np.array )-> float:\n",
        "    \"\"\"\n",
        "    Calculates the fidelity between two quantum states.\n",
        "\n",
        "    Args:\n",
        "      a (np.array): The first quantum state vector.\n",
        "      b (np.array): The second quantum state vector.\n",
        "\n",
        "    Returns:\n",
        "      float: The fidelity value between the two states.\n",
        "    \"\"\"\n",
        "    # Calculate inner product\n",
        "    inner_product = np.vdot(a, b)\n",
        "    # Square absolute value for fidelity\n",
        "    fidelity = np.abs(inner_product) ** 2\n",
        "\n",
        "    return fidelity"
      ],
      "metadata": {
        "id": "nKM1XgRB2Qvy"
      },
      "execution_count": 27,
      "outputs": []
    },
    {
      "cell_type": "code",
      "source": [
        "# fedality between frist datapoint and first centroid\n",
        "fedality( encode_data(data , ground_state())[:1] , encode_data( init_cent , ground_state() )[:1] )"
      ],
      "metadata": {
        "colab": {
          "base_uri": "https://localhost:8080/"
        },
        "id": "n5qoJlM3EVFt",
        "outputId": "4bc52377-920d-4924-aecf-dfc825777f27"
      },
      "execution_count": 28,
      "outputs": [
        {
          "output_type": "execute_result",
          "data": {
            "text/plain": [
              "0.9908159320996159"
            ]
          },
          "metadata": {},
          "execution_count": 28
        }
      ]
    },
    {
      "cell_type": "code",
      "source": [
        "# fedality between frist datapoint and 2 centroid\n",
        "fedality( encode_data(data , ground_state())[:1] , encode_data( init_cent , ground_state() )[1:2] )"
      ],
      "metadata": {
        "colab": {
          "base_uri": "https://localhost:8080/"
        },
        "id": "75eohMiKTfQz",
        "outputId": "80aa3a7d-2567-4ef7-93f1-61f543bba7c8"
      },
      "execution_count": 29,
      "outputs": [
        {
          "output_type": "execute_result",
          "data": {
            "text/plain": [
              "0.9920677262502707"
            ]
          },
          "metadata": {},
          "execution_count": 29
        }
      ]
    },
    {
      "cell_type": "markdown",
      "source": [
        "# find Closest Centroids"
      ],
      "metadata": {
        "id": "0FlGU3yaC6lW"
      }
    },
    {
      "cell_type": "markdown",
      "source": [
        "## Step 6\n",
        "### 6.1 Function Definition:\n",
        "\n",
        "#### The findClosestCentroids function ,two inputs: enc_data, a NumPy array containing the encoded data points, and enc_centr, a NumPy array containing the encoded centroids. It returns a NumPy array containing the cluster indices (centroid memberships) for each data point.\n",
        "\n",
        "### 6.2 Shape\n",
        "#### \"Input:\"\n",
        "\n",
        "#### enc_data: A NumPy array containing the encoded data points,Shape of Input: (m, n)\n",
        "#### The encoded data points are represented as a 2D array with m rows and n columns, where each row represents an encoded data point.\n",
        "####enc_centr: A NumPy array containing the encoded centroids, Shape of Input: (k, n)\n",
        "#### The encoded centroids are represented as a 2D array with k rows and n columns, where each row represents an encoded centroid.\n",
        "\n",
        "#### \"Output:\"\n",
        "\n",
        "####A NumPy array containing the cluster indices (centroid memberships) for each data point.\n",
        "####Shape of Output: (m,)\n",
        "####The output array is a 1D array with m elements, where each element represents the index of the closest centroid for the corresponding data point.\n",
        "\n",
        "### 6.3 Finally Explanation:\n",
        "\n",
        "####The function iterates through each encoded data point and computes the fidelity between that data point and each centroid. It then finds the index of the centroid with the maximum fidelity for each data point, indicating the closest centroid. Finally, it returns an array containing these indices as centroid memberships for each data point."
      ],
      "metadata": {
        "id": "kluWhUoz_PNJ"
      }
    },
    {
      "cell_type": "code",
      "source": [
        "def findClosestCentroids(enc_data: np.array, enc_centr: np.array) -> np.array:\n",
        "  \"\"\"\n",
        "  Computes the centroid memberships for every encoded data point.\n",
        "\n",
        "  Args:\n",
        "      enc_data (np.array): A NumPy array containing the encoded data points.\n",
        "      enc_centr (np.array): A NumPy array containing the encoded centroids.\n",
        "\n",
        "  Returns:\n",
        "      np.array: A NumPy array containing the cluster indices (centroid memberships)\n",
        "                for each data point.\n",
        "  \"\"\"\n",
        "\n",
        "  closest_centroids = []\n",
        "  for data_point in enc_data:\n",
        "    fidelities = []\n",
        "    for centroid in enc_centr:\n",
        "      fidelity = fedality(data_point, centroid)  # Use fidelity function\n",
        "      fidelities.append(fidelity)\n",
        "    closest_centroids.append(np.argmax(fidelities))  # Find max fidelity index\n",
        "\n",
        "  return np.array(closest_centroids)\n"
      ],
      "metadata": {
        "id": "aN3SQk4OWXeb"
      },
      "execution_count": 30,
      "outputs": []
    },
    {
      "cell_type": "code",
      "source": [
        "lable=findClosestCentroids(encode_data(data , ground_state()), encode_data( init_cent , ground_state() ))"
      ],
      "metadata": {
        "id": "tyUQl5BcWaNR"
      },
      "execution_count": 31,
      "outputs": []
    },
    {
      "cell_type": "code",
      "source": [
        "lable"
      ],
      "metadata": {
        "colab": {
          "base_uri": "https://localhost:8080/"
        },
        "id": "hxKMy7YtbyQT",
        "outputId": "4a7ac452-12b2-4fc5-b751-c7be56867a33"
      },
      "execution_count": 32,
      "outputs": [
        {
          "output_type": "execute_result",
          "data": {
            "text/plain": [
              "array([1, 1, 0, 1, 0, 1, 1, 1, 1, 1, 1, 1, 1, 1, 1, 1, 1, 1, 1, 1, 1, 1,\n",
              "       1, 1, 1, 1, 1, 1, 1, 1, 1, 1, 1, 1, 1, 1, 0, 1, 1, 1, 1, 1, 1, 1,\n",
              "       1, 1, 1, 1, 1, 1, 1, 1, 1, 1, 0, 1, 1, 1, 1, 1, 1, 1, 1, 0, 1, 1,\n",
              "       1, 1, 1, 1, 0, 1, 1, 1, 1, 1, 0, 1, 1, 1, 1, 1, 1, 1, 1, 1, 1, 0,\n",
              "       1, 1, 1, 1, 1, 1, 1, 1, 1, 1, 1, 1])"
            ]
          },
          "metadata": {},
          "execution_count": 32
        }
      ]
    },
    {
      "cell_type": "markdown",
      "source": [
        "# update centroid"
      ],
      "metadata": {
        "id": "w4Y_GaagZLcd"
      }
    },
    {
      "cell_type": "code",
      "source": [
        "encode_data(data , ground_state()).shape"
      ],
      "metadata": {
        "colab": {
          "base_uri": "https://localhost:8080/"
        },
        "id": "vk74QYF0g3tp",
        "outputId": "4c04def1-d537-4165-c4f7-d13cb44e8bd1"
      },
      "execution_count": 33,
      "outputs": [
        {
          "output_type": "execute_result",
          "data": {
            "text/plain": [
              "(100, 2)"
            ]
          },
          "metadata": {},
          "execution_count": 33
        }
      ]
    },
    {
      "cell_type": "markdown",
      "source": [
        "## Step 7\n",
        "### 7.1 Function Definition:\n",
        "\n",
        "#### The computeCentroids function , takes three inputs: enc_data, a NumPy array containing the encoded data points, idx, a NumPy array containing the cluster assignments, and K, an integer representing the number of centroids. It returns a NumPy array containing the centroid values computed from the features of the data points.\n",
        "### 7.2 Shape\n",
        "####\"input:\"\n",
        "\n",
        "####enc_data: A NumPy array containing the encoded data points,Shape of Input: (m, n)\n",
        "####The encoded data points are represented as a 2D array with m rows and n columns, where each row represents an encoded data point.\n",
        "#### idx: A NumPy array containing the cluster assignments,Shape of Input: (m,)\n",
        "####The cluster assignments are represented as a 1D array with m elements, where each element represents the index of the assigned centroid for the corresponding data point.\n",
        "####K: An integer representing the number of centroids.\n",
        "\n",
        "####\"Output:\"\n",
        "\n",
        "####A NumPy array containing the centroid values computed from the features of the data points,Shape of Output: (K, n)\n",
        "####The output array is a 2D array with K rows and n columns, where each row represents a centroid and each column represents a feature.\n",
        "\n",
        "### 7.3 Finally Explanation:\n",
        "\n",
        "####The function iterates through each centroid and computes the mean of the data points assigned to that centroid. It then appends the computed mean to the centroids list. Finally, it returns an array containing the centroids computed from the features of the data points."
      ],
      "metadata": {
        "id": "xs-eg2Z5_Ui7"
      }
    },
    {
      "cell_type": "code",
      "source": [
        "def computeCentroids(enc_data: np.array, idx: np.array, K: int) -> np.array:\n",
        "    \"\"\"\n",
        "    Returns the new centroids by computing the means of the data points\n",
        "    assigned to each centroid.\n",
        "\n",
        "    Args:\n",
        "        enc_data (np.array): Encoded data points containing features and target.\n",
        "        idx (np.array): Cluster assignments.\n",
        "        K (int): Number of centroids.\n",
        "\n",
        "    Returns:\n",
        "        np.array: Centroid values computed from the features of the data points.\n",
        "    \"\"\"\n",
        "\n",
        "\n",
        "    centroids = []\n",
        "    for i in range(K):\n",
        "\n",
        "        cluster_data = enc_data[idx  == i]\n",
        "        centroid_mean = np.mean(cluster_data, axis=0)\n",
        "        centroids.append(centroid_mean)\n",
        "\n",
        "    return np.array(centroids)"
      ],
      "metadata": {
        "id": "hWB31C1tZKl3"
      },
      "execution_count": 70,
      "outputs": []
    },
    {
      "cell_type": "markdown",
      "source": [
        "# K_means"
      ],
      "metadata": {
        "id": "MsAqT-Gxt3DA"
      }
    },
    {
      "cell_type": "markdown",
      "source": [
        "## Step 8\n",
        "### 8.1 Function Definition:\n",
        "\n",
        "#### The K_means_Quantum_clustering function , takes two inputs: data, a NumPy array containing the classical data points, and k, an integer representing the number of clusters to form. It returns a tuple containing the cluster assignments (indices) for each data point, the centroids of the clusters, and the number of iterations performed.\n",
        "\n",
        "### 8.2 Shape\n",
        "####\"Input:\"\n",
        "\n",
        "####data: A NumPy array containing the classical data points,Shape of Input: (m, n)\n",
        "####The classical data points are represented as a 2D array with m rows and n columns, where each row represents a data point.\n",
        "#### k: An integer representing the number of clusters to form.\n",
        "####\"Output:\"\n",
        "\n",
        "####A tuple containing:\n",
        "####A NumPy array containing the cluster assignments (indices) for each data point,Shape of Output: (m,)\n",
        "####The output array is a 1D array with m elements, where each element represents the index of the assigned cluster for the corresponding data point.\n",
        "####A NumPy array containing the centroids of the clusters,Shape of Output: (k, n)\n",
        "####The output array is a 2D array with k rows and n columns, where each row represents a centroid and each column represents a feature.\n",
        "####An integer representing the number of iterations performed during the clustering process.\n",
        "\n",
        "### 8.3 Finally Explanation:\n",
        "\n",
        "####The function performs the main loop of the K-means clustering algorithm. It encodes the classical data points into quantum states, initializes centroids using quantum encoding, and iteratively assigns data points to the nearest centroids while updating the centroids' positions. The process continues until convergence is achieved, when the centroids no longer change significantly between iterations. Finally, it returns the cluster assignments, centroids, and the number of iterations performed"
      ],
      "metadata": {
        "id": "8gR0wrPa_7DY"
      }
    },
    {
      "cell_type": "code",
      "source": [
        "def K_means_Quantum_clustering(data: np.array, k: int  ) -> np.array:\n",
        "    \"\"\"\n",
        "    Performs K-means clustering on classical data points using quantum state encoding.\n",
        "\n",
        "    Args:\n",
        "        data: A NumPy array containing the classical data points.\n",
        "        k: The number of clusters to form.\n",
        "\n",
        "    Returns:\n",
        "        A NumPy array containing the cluster assignments (indices) for each data point.\n",
        "    \"\"\"\n",
        "\n",
        "    # Main K-means loop\n",
        "    enc_data = encode_data(data, ground_state())\n",
        "    enc_centr = initialize_centroids(enc_data, k)\n",
        "    converged = False\n",
        "    i =0\n",
        "    while not converged:\n",
        "        old_centr = enc_centr\n",
        "        idx = findClosestCentroids(enc_data, enc_centr)\n",
        "        enc_centr = computeCentroids(enc_data, idx, k)\n",
        "        converged = np.all(enc_centr == old_centr)\n",
        "        i+=1\n",
        "\n",
        "    return idx  , enc_centr ,i\n"
      ],
      "metadata": {
        "id": "jN5teHhBex0l"
      },
      "execution_count": 110,
      "outputs": []
    },
    {
      "cell_type": "code",
      "source": [
        "data[:3]"
      ],
      "metadata": {
        "colab": {
          "base_uri": "https://localhost:8080/"
        },
        "id": "sYtHis5IziKD",
        "outputId": "9327e2b1-b578-4410-8695-6fa5a708d9b3"
      },
      "execution_count": 111,
      "outputs": [
        {
          "output_type": "execute_result",
          "data": {
            "text/plain": [
              "array([[0.78136808],\n",
              "       [0.69282886],\n",
              "       [0.96965897]])"
            ]
          },
          "metadata": {},
          "execution_count": 111
        }
      ]
    },
    {
      "cell_type": "code",
      "source": [
        "idx , enc_centr , i  = K_means_Quantum_clustering( data , 2)"
      ],
      "metadata": {
        "id": "jqbyqPtfvWrY"
      },
      "execution_count": 112,
      "outputs": []
    },
    {
      "cell_type": "code",
      "source": [
        "i"
      ],
      "metadata": {
        "colab": {
          "base_uri": "https://localhost:8080/"
        },
        "id": "j_96lsMG0-aZ",
        "outputId": "5ed5147b-f5d0-4006-b195-6c11bb4110ef"
      },
      "execution_count": 113,
      "outputs": [
        {
          "output_type": "execute_result",
          "data": {
            "text/plain": [
              "5"
            ]
          },
          "metadata": {},
          "execution_count": 113
        }
      ]
    },
    {
      "cell_type": "code",
      "source": [
        "idx"
      ],
      "metadata": {
        "colab": {
          "base_uri": "https://localhost:8080/"
        },
        "id": "KukomOGivoh5",
        "outputId": "c265db87-8282-4e86-d5e5-8ef72432cc7a"
      },
      "execution_count": 114,
      "outputs": [
        {
          "output_type": "execute_result",
          "data": {
            "text/plain": [
              "array([1, 1, 1, 0, 1, 0, 1, 1, 1, 0, 1, 0, 0, 1, 0, 1, 0, 1, 0, 0, 1, 0,\n",
              "       0, 1, 1, 1, 1, 0, 1, 0, 1, 1, 0, 0, 1, 0, 1, 1, 0, 1, 0, 0, 0, 0,\n",
              "       1, 1, 0, 1, 1, 1, 1, 1, 1, 0, 1, 0, 1, 1, 0, 1, 0, 0, 0, 1, 1, 0,\n",
              "       1, 0, 0, 0, 1, 0, 0, 1, 0, 1, 1, 1, 1, 0, 0, 1, 1, 0, 1, 0, 0, 1,\n",
              "       1, 1, 1, 0, 0, 1, 0, 1, 0, 1, 0, 1])"
            ]
          },
          "metadata": {},
          "execution_count": 114
        }
      ]
    },
    {
      "cell_type": "code",
      "source": [
        "enc_centr"
      ],
      "metadata": {
        "colab": {
          "base_uri": "https://localhost:8080/"
        },
        "id": "9r_j5i9evpp9",
        "outputId": "a6cfb699-dbaa-431d-e9af-5044a1b88a2d"
      },
      "execution_count": 115,
      "outputs": [
        {
          "output_type": "execute_result",
          "data": {
            "text/plain": [
              "array([[0.98984035+0.j        , 0.        -0.12489481j],\n",
              "       [0.92219354+0.j        , 0.        -0.38051558j]])"
            ]
          },
          "metadata": {},
          "execution_count": 115
        }
      ]
    },
    {
      "cell_type": "markdown",
      "source": [
        "# visualisation"
      ],
      "metadata": {
        "id": "uw7pUClu_b4b"
      }
    },
    {
      "cell_type": "code",
      "source": [
        "import pandas as pd\n",
        "# Create a DataFrame from data and labels\n",
        "df = pd.DataFrame({'Data': data.flatten(), 'Label': lables, 'Cluster': idx})"
      ],
      "metadata": {
        "id": "dL5ExyLrGkQT"
      },
      "execution_count": 119,
      "outputs": []
    },
    {
      "cell_type": "code",
      "source": [
        "# Plot the data with colors based on cluster assignments using Seaborn\n",
        "sns.scatterplot(data=df, x='Data', y='Label', hue='Cluster', palette='Set1')\n",
        "plt.xlabel('Data')\n",
        "plt.ylabel('Label')\n",
        "plt.title('Random Data with Cluster Assignments')\n",
        "plt.show()"
      ],
      "metadata": {
        "colab": {
          "base_uri": "https://localhost:8080/",
          "height": 472
        },
        "id": "DwpI6bBwEKAK",
        "outputId": "32c46c40-9034-431b-c4a5-bbc2e1df644d"
      },
      "execution_count": 124,
      "outputs": [
        {
          "output_type": "display_data",
          "data": {
            "text/plain": [
              "<Figure size 640x480 with 1 Axes>"
            ],
            "image/png": "[encoded data removed]"
          },
          "metadata": {}
        }
      ]
    },
    {
      "cell_type": "code",
      "source": [],
      "metadata": {
        "id": "YWMZbxt-FSJd"
      },
      "execution_count": null,
      "outputs": []
    }
  ]
}